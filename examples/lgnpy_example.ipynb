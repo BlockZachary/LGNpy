{
 "cells": [
  {
   "cell_type": "markdown",
   "metadata": {},
   "source": [
    "### Installation:\n",
    "\n",
    "Install LGNpy using\n",
    "\n",
    "``pip install lgnpy``\n",
    "\n",
    "### Import libraries"
   ]
  },
  {
   "cell_type": "code",
   "execution_count": 1,
   "metadata": {},
   "outputs": [],
   "source": [
    "import pandas as pd\n",
    "import numpy as np\n",
    "from lgnpy import LinearGaussian"
   ]
  },
  {
   "cell_type": "markdown",
   "metadata": {},
   "source": [
    "### Make a network using edges"
   ]
  },
  {
   "cell_type": "code",
   "execution_count": 2,
   "metadata": {},
   "outputs": [],
   "source": [
    "lg = LinearGaussian()\n",
    "lg.set_edges_from([('A', 'D'), ('B', 'D'), ('D', 'E'), ('C', 'E')])"
   ]
  },
  {
   "attachments": {},
   "cell_type": "markdown",
   "metadata": {},
   "source": [
    "<img src=\"https://github.com/ostwalprasad/LGNpy/blob/master/docs/images/network.png\" width=\"200\" >"
   ]
  },
  {
   "cell_type": "markdown",
   "metadata": {},
   "source": [
    "### Create synthetic data for above network and bind it with network"
   ]
  },
  {
   "cell_type": "code",
   "execution_count": 3,
   "metadata": {},
   "outputs": [],
   "source": [
    "np.random.seed(42)\n",
    "n=100\n",
    "data = pd.DataFrame(columns=['A','B','C','D','E'])\n",
    "data['A'] = np.random.normal(5,2,n)\n",
    "data['B'] = np.random.normal(10,2,n)\n",
    "data['D'] = 2*data['A'] + 3*data['B'] + np.random.normal(0,2,n)\n",
    "data['C'] = np.random.normal(-5,2,n)\n",
    "data['E'] = 3*data['C'] + 3*data['D'] + np.random.normal(0,2,n)\n",
    "\n",
    "\n",
    "lg.set_data(data)"
   ]
  },
  {
   "cell_type": "markdown",
   "metadata": {},
   "source": [
    "### Details of network"
   ]
  },
  {
   "cell_type": "code",
   "execution_count": 4,
   "metadata": {},
   "outputs": [
    {
     "data": {
      "text/html": [
       "<div>\n",
       "<style scoped>\n",
       "    .dataframe tbody tr th:only-of-type {\n",
       "        vertical-align: middle;\n",
       "    }\n",
       "\n",
       "    .dataframe tbody tr th {\n",
       "        vertical-align: top;\n",
       "    }\n",
       "\n",
       "    .dataframe thead th {\n",
       "        text-align: right;\n",
       "    }\n",
       "</style>\n",
       "<table border=\"1\" class=\"dataframe\">\n",
       "  <thead>\n",
       "    <tr style=\"text-align: right;\">\n",
       "      <th></th>\n",
       "      <th>Node</th>\n",
       "      <th>Mean</th>\n",
       "      <th>Std</th>\n",
       "      <th>Parents</th>\n",
       "      <th>Children</th>\n",
       "    </tr>\n",
       "  </thead>\n",
       "  <tbody>\n",
       "    <tr>\n",
       "      <td>0</td>\n",
       "      <td>A</td>\n",
       "      <td>4.7923</td>\n",
       "      <td>1.8163</td>\n",
       "      <td>[]</td>\n",
       "      <td>[D]</td>\n",
       "    </tr>\n",
       "    <tr>\n",
       "      <td>1</td>\n",
       "      <td>B</td>\n",
       "      <td>10.0446</td>\n",
       "      <td>1.9073</td>\n",
       "      <td>[]</td>\n",
       "      <td>[D]</td>\n",
       "    </tr>\n",
       "    <tr>\n",
       "      <td>2</td>\n",
       "      <td>C</td>\n",
       "      <td>-4.7863</td>\n",
       "      <td>1.7682</td>\n",
       "      <td>[]</td>\n",
       "      <td>[E]</td>\n",
       "    </tr>\n",
       "    <tr>\n",
       "      <td>3</td>\n",
       "      <td>D</td>\n",
       "      <td>39.8482</td>\n",
       "      <td>6.8605</td>\n",
       "      <td>[A, B]</td>\n",
       "      <td>[E]</td>\n",
       "    </tr>\n",
       "    <tr>\n",
       "      <td>4</td>\n",
       "      <td>E</td>\n",
       "      <td>105.0737</td>\n",
       "      <td>21.0446</td>\n",
       "      <td>[D, C]</td>\n",
       "      <td>[]</td>\n",
       "    </tr>\n",
       "  </tbody>\n",
       "</table>\n",
       "</div>"
      ],
      "text/plain": [
       "  Node      Mean      Std Parents Children\n",
       "0    A    4.7923   1.8163      []      [D]\n",
       "1    B   10.0446   1.9073      []      [D]\n",
       "2    C   -4.7863   1.7682      []      [E]\n",
       "3    D   39.8482   6.8605  [A, B]      [E]\n",
       "4    E  105.0737  21.0446  [D, C]       []"
      ]
     },
     "execution_count": 4,
     "metadata": {},
     "output_type": "execute_result"
    }
   ],
   "source": [
    "lg.network_summary()"
   ]
  },
  {
   "cell_type": "code",
   "execution_count": 5,
   "metadata": {
    "scrolled": true
   },
   "outputs": [
    {
     "data": {
      "text/html": [
       "<div>\n",
       "<style scoped>\n",
       "    .dataframe tbody tr th:only-of-type {\n",
       "        vertical-align: middle;\n",
       "    }\n",
       "\n",
       "    .dataframe tbody tr th {\n",
       "        vertical-align: top;\n",
       "    }\n",
       "\n",
       "    .dataframe thead th {\n",
       "        text-align: right;\n",
       "    }\n",
       "</style>\n",
       "<table border=\"1\" class=\"dataframe\">\n",
       "  <thead>\n",
       "    <tr style=\"text-align: right;\">\n",
       "      <th></th>\n",
       "      <th>A</th>\n",
       "      <th>B</th>\n",
       "      <th>C</th>\n",
       "      <th>D</th>\n",
       "      <th>E</th>\n",
       "    </tr>\n",
       "  </thead>\n",
       "  <tbody>\n",
       "    <tr>\n",
       "      <td>A</td>\n",
       "      <td>3.299080</td>\n",
       "      <td>-0.472617</td>\n",
       "      <td>-0.546709</td>\n",
       "      <td>5.931998</td>\n",
       "      <td>15.629612</td>\n",
       "    </tr>\n",
       "    <tr>\n",
       "      <td>B</td>\n",
       "      <td>-0.472617</td>\n",
       "      <td>3.637938</td>\n",
       "      <td>-0.059400</td>\n",
       "      <td>9.817065</td>\n",
       "      <td>30.047115</td>\n",
       "    </tr>\n",
       "    <tr>\n",
       "      <td>C</td>\n",
       "      <td>-0.546709</td>\n",
       "      <td>-0.059400</td>\n",
       "      <td>3.126541</td>\n",
       "      <td>-1.272613</td>\n",
       "      <td>6.367760</td>\n",
       "    </tr>\n",
       "    <tr>\n",
       "      <td>D</td>\n",
       "      <td>5.931998</td>\n",
       "      <td>9.817065</td>\n",
       "      <td>-1.272613</td>\n",
       "      <td>47.066698</td>\n",
       "      <td>138.162703</td>\n",
       "    </tr>\n",
       "    <tr>\n",
       "      <td>E</td>\n",
       "      <td>15.629612</td>\n",
       "      <td>30.047115</td>\n",
       "      <td>6.367760</td>\n",
       "      <td>138.162703</td>\n",
       "      <td>442.876745</td>\n",
       "    </tr>\n",
       "  </tbody>\n",
       "</table>\n",
       "</div>"
      ],
      "text/plain": [
       "           A          B         C           D           E\n",
       "A   3.299080  -0.472617 -0.546709    5.931998   15.629612\n",
       "B  -0.472617   3.637938 -0.059400    9.817065   30.047115\n",
       "C  -0.546709  -0.059400  3.126541   -1.272613    6.367760\n",
       "D   5.931998   9.817065 -1.272613   47.066698  138.162703\n",
       "E  15.629612  30.047115  6.367760  138.162703  442.876745"
      ]
     },
     "execution_count": 5,
     "metadata": {},
     "output_type": "execute_result"
    }
   ],
   "source": [
    "lg.get_covariance()"
   ]
  },
  {
   "cell_type": "markdown",
   "metadata": {},
   "source": [
    "### Set Evidence "
   ]
  },
  {
   "cell_type": "code",
   "execution_count": 6,
   "metadata": {},
   "outputs": [],
   "source": [
    "lg.set_evidences({'A':5,'B':10})"
   ]
  },
  {
   "cell_type": "markdown",
   "metadata": {},
   "source": [
    "### Run Inference"
   ]
  },
  {
   "cell_type": "code",
   "execution_count": 7,
   "metadata": {},
   "outputs": [
    {
     "name": "stderr",
     "output_type": "stream",
     "text": [
      "Started\n",
      "Calculating children of A : ['D']\n",
      "\tcalculated for D\n",
      "Calculating children of B : ['D']\n",
      "\tD already calculated\n",
      "Calculating children of C : ['E']\n",
      "Evidence wasn't available for node C, so took mean.\n",
      "\tcalculated for E\n"
     ]
    },
    {
     "name": "stdout",
     "output_type": "stream",
     "text": [
      "<Logger lgnpy.logging_config (DEBUG)>\n"
     ]
    },
    {
     "data": {
      "text/plain": [
       "({'A': 5,\n",
       "  'B': 10,\n",
       "  'C': -4.786319758605391,\n",
       "  'D': 40.17729734929936,\n",
       "  'E': 106.06876013138348},\n",
       " {'A': None,\n",
       "  'B': None,\n",
       "  'C': None,\n",
       "  'D': 4.530868459203312,\n",
       "  'E': 4.291922724095514})"
      ]
     },
     "execution_count": 7,
     "metadata": {},
     "output_type": "execute_result"
    }
   ],
   "source": [
    "lg.run_inference(debug=True)"
   ]
  },
  {
   "cell_type": "markdown",
   "metadata": {},
   "source": [
    "\n",
    "### Run Inference  without evidence\n"
   ]
  },
  {
   "cell_type": "code",
   "execution_count": 8,
   "metadata": {
    "scrolled": true
   },
   "outputs": [
    {
     "name": "stderr",
     "output_type": "stream",
     "text": [
      "Started\n",
      "No evidence was set. Proceeding without evidence\n",
      "Calculating children of A : ['D']\n",
      "Evidence wasn't available for node A, so took mean.\n",
      "\tcalculated for D\n",
      "Calculating children of B : ['D']\n",
      "Evidence wasn't available for node B, so took mean.\n",
      "\tD already calculated\n",
      "Calculating children of C : ['E']\n",
      "Evidence wasn't available for node C, so took mean.\n",
      "\tcalculated for E\n"
     ]
    },
    {
     "name": "stdout",
     "output_type": "stream",
     "text": [
      "<Logger lgnpy.logging_config (DEBUG)>\n"
     ]
    },
    {
     "data": {
      "text/plain": [
       "({'A': 4.792306965211812,\n",
       "  'B': 10.04460917409985,\n",
       "  'C': -4.786319758605391,\n",
       "  'D': 39.84823395892406,\n",
       "  'E': 105.07373365993537},\n",
       " {'A': None,\n",
       "  'B': None,\n",
       "  'C': None,\n",
       "  'D': 4.530868459203312,\n",
       "  'E': 4.291922724095514})"
      ]
     },
     "execution_count": 8,
     "metadata": {},
     "output_type": "execute_result"
    }
   ],
   "source": [
    "lg.clear_evidences()\n",
    "lg.run_inference()"
   ]
  },
  {
   "cell_type": "markdown",
   "metadata": {},
   "source": [
    "### Visualizing Data"
   ]
  },
  {
   "cell_type": "code",
   "execution_count": 10,
   "metadata": {},
   "outputs": [
    {
     "data": {
      "image/png": "[encoded data removed]",
      "text/plain": [
       "<Figure size 864x144 with 5 Axes>"
      ]
     },
     "metadata": {
      "needs_background": "light"
     },
     "output_type": "display_data"
    }
   ],
   "source": [
    "lg.plot_distributions()"
   ]
  },
  {
   "cell_type": "code",
   "execution_count": null,
   "metadata": {},
   "outputs": [],
   "source": []
  }
 ],
 "metadata": {
  "kernelspec": {
   "display_name": "Python 3",
   "language": "python",
   "name": "python3"
  },
  "language_info": {
   "codemirror_mode": {
    "name": "ipython",
    "version": 3
   },
   "file_extension": ".py",
   "mimetype": "text/x-python",
   "name": "python",
   "nbconvert_exporter": "python",
   "pygments_lexer": "ipython3",
   "version": "3.7.4"
  }
 },
 "nbformat": 4,
 "nbformat_minor": 2
}
