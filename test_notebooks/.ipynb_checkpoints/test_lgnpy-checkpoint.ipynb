{
 "cells": [
  {
   "cell_type": "code",
   "execution_count": 1,
   "metadata": {},
   "outputs": [],
   "source": [
    "import sys\n",
    "sys.path.insert(0, r'B:\\Work\\Aranti.ai\\Codebase\\lgnpy')"
   ]
  },
  {
   "cell_type": "code",
   "execution_count": null,
   "metadata": {},
   "outputs": [],
   "source": []
  },
  {
   "cell_type": "code",
   "execution_count": 2,
   "metadata": {},
   "outputs": [],
   "source": [
    "from lgnpy import LinearGaussian\n",
    "import pandas as pd\n",
    "import numpy as np\n",
    "from lgnpy import LinearGaussian\n",
    "\n",
    "lg = LinearGaussian()\n",
    "lg.set_edges_from([('A', 'D'), ('B', 'D'), ('D', 'E'), ('C', 'E')])"
   ]
  },
  {
   "cell_type": "code",
   "execution_count": 3,
   "metadata": {},
   "outputs": [],
   "source": [
    "np.random.seed(42)\n",
    "n=100\n",
    "data = pd.DataFrame(columns=['A','B','C','D','E'])\n",
    "data['A'] = np.random.normal(5,2,n)\n",
    "data['B'] = np.random.normal(10,2,n)\n",
    "data['D'] = 2*data['A'] + 3*data['B'] + np.random.normal(0,2,n)\n",
    "data['C'] = np.random.normal(-5,2,n)\n",
    "data['E'] = 3*data['C'] + 3*data['D'] + np.random.normal(0,2,n)\n",
    "\n",
    "lg.set_data(data)"
   ]
  },
  {
   "cell_type": "code",
   "execution_count": 4,
   "metadata": {},
   "outputs": [],
   "source": [
    "lg.set_evidences({'A':5,'B':10})"
   ]
  },
  {
   "cell_type": "code",
   "execution_count": 5,
   "metadata": {},
   "outputs": [
    {
     "name": "stderr",
     "output_type": "stream",
     "text": [
      "Started\n",
      "Calculating children of A : ['D']\n",
      "\tcalculated for D\n",
      "Calculating children of B : ['D']\n",
      "\tD already calculated\n",
      "Calculating children of C : ['E']\n",
      "Evidence wasn't available for node C, so took mean.\n",
      "\tcalculated for E\n"
     ]
    },
    {
     "data": {
      "text/html": [
       "<div>\n",
       "<style scoped>\n",
       "    .dataframe tbody tr th:only-of-type {\n",
       "        vertical-align: middle;\n",
       "    }\n",
       "\n",
       "    .dataframe tbody tr th {\n",
       "        vertical-align: top;\n",
       "    }\n",
       "\n",
       "    .dataframe thead th {\n",
       "        text-align: right;\n",
       "    }\n",
       "</style>\n",
       "<table border=\"1\" class=\"dataframe\">\n",
       "  <thead>\n",
       "    <tr style=\"text-align: right;\">\n",
       "      <th></th>\n",
       "      <th>ev</th>\n",
       "      <th>u</th>\n",
       "      <th>u_inf</th>\n",
       "      <th>s</th>\n",
       "      <th>s_inf</th>\n",
       "      <th>u_%change</th>\n",
       "    </tr>\n",
       "  </thead>\n",
       "  <tbody>\n",
       "    <tr>\n",
       "      <td>A</td>\n",
       "      <td>5</td>\n",
       "      <td>4.7923</td>\n",
       "      <td>5.0000</td>\n",
       "      <td>3.2991</td>\n",
       "      <td></td>\n",
       "      <td>4.3339</td>\n",
       "    </tr>\n",
       "    <tr>\n",
       "      <td>B</td>\n",
       "      <td>10</td>\n",
       "      <td>10.0446</td>\n",
       "      <td>10.0000</td>\n",
       "      <td>3.6379</td>\n",
       "      <td></td>\n",
       "      <td>-0.4441</td>\n",
       "    </tr>\n",
       "    <tr>\n",
       "      <td>C</td>\n",
       "      <td></td>\n",
       "      <td>-4.7863</td>\n",
       "      <td>-4.7863</td>\n",
       "      <td>3.1265</td>\n",
       "      <td></td>\n",
       "      <td></td>\n",
       "    </tr>\n",
       "    <tr>\n",
       "      <td>D</td>\n",
       "      <td></td>\n",
       "      <td>39.8482</td>\n",
       "      <td>40.1773</td>\n",
       "      <td>47.0667</td>\n",
       "      <td>4.5309</td>\n",
       "      <td>0.8258</td>\n",
       "    </tr>\n",
       "    <tr>\n",
       "      <td>E</td>\n",
       "      <td></td>\n",
       "      <td>105.0737</td>\n",
       "      <td>106.0688</td>\n",
       "      <td>442.8767</td>\n",
       "      <td>4.2919</td>\n",
       "      <td>0.947</td>\n",
       "    </tr>\n",
       "  </tbody>\n",
       "</table>\n",
       "</div>"
      ],
      "text/plain": [
       "   ev         u     u_inf         s   s_inf u_%change\n",
       "A   5    4.7923    5.0000    3.2991            4.3339\n",
       "B  10   10.0446   10.0000    3.6379           -0.4441\n",
       "C       -4.7863   -4.7863    3.1265                  \n",
       "D       39.8482   40.1773   47.0667  4.5309    0.8258\n",
       "E      105.0737  106.0688  442.8767  4.2919     0.947"
      ]
     },
     "execution_count": 5,
     "metadata": {},
     "output_type": "execute_result"
    }
   ],
   "source": [
    "lg.run_inference(debug=True)"
   ]
  },
  {
   "cell_type": "code",
   "execution_count": null,
   "metadata": {},
   "outputs": [],
   "source": []
  },
  {
   "cell_type": "code",
   "execution_count": null,
   "metadata": {},
   "outputs": [],
   "source": []
  }
 ],
 "metadata": {
  "kernelspec": {
   "display_name": "Python 3",
   "language": "python",
   "name": "python3"
  },
  "language_info": {
   "codemirror_mode": {
    "name": "ipython",
    "version": 3
   },
   "file_extension": ".py",
   "mimetype": "text/x-python",
   "name": "python",
   "nbconvert_exporter": "python",
   "pygments_lexer": "ipython3",
   "version": "3.7.4"
  }
 },
 "nbformat": 4,
 "nbformat_minor": 1
}
